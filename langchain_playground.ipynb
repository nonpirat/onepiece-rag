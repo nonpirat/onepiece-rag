{
 "cells": [
  {
   "cell_type": "markdown",
   "metadata": {},
   "source": [
    "# Notebook for going through langchain tutorial"
   ]
  },
  {
   "cell_type": "markdown",
   "metadata": {},
   "source": [
    "## Import and Loading Necessary Stuff"
   ]
  },
  {
   "cell_type": "code",
   "execution_count": 1,
   "metadata": {},
   "outputs": [
    {
     "data": {
      "text/plain": [
       "True"
      ]
     },
     "execution_count": 1,
     "metadata": {},
     "output_type": "execute_result"
    }
   ],
   "source": [
    "from dotenv import load_dotenv\n",
    "import os\n",
    "from langchain_openai import ChatOpenAI\n",
    "from langchain_core.prompts import ChatPromptTemplate\n",
    "\n",
    "load_dotenv()"
   ]
  },
  {
   "cell_type": "markdown",
   "metadata": {},
   "source": [
    "## Test getting response"
   ]
  },
  {
   "cell_type": "code",
   "execution_count": 2,
   "metadata": {},
   "outputs": [],
   "source": [
    "llm = ChatOpenAI()"
   ]
  },
  {
   "cell_type": "code",
   "execution_count": 276,
   "metadata": {},
   "outputs": [
    {
     "data": {
      "text/plain": [
       "AIMessage(content='1. Romance Dawn\\n2. Orange Town\\n3. Syrup Village\\n4. Baratie\\n5. Arlong Park\\n6. Loguetown\\n7. Reverse Mountain\\n8. Whiskey Peak\\n9. Little Garden\\n10. Drum Island\\n11. Alabasta\\n12. Jaya\\n13. Skypiea\\n14. Long Ring Long Land\\n15. Water 7\\n16. Enies Lobby\\n17. Post-Enies Lobby\\n18. Thriller Bark\\n19. Sabaody Archipelago\\n20. Amazon Lily\\n21. Impel Down\\n22. Marineford\\n23. Post-War\\n24. Return to Sabaody\\n25. Fishman Island\\n26. Punk Hazard\\n27. Dressrosa\\n28. Zou\\n29. Whole Cake Island\\n30. Reverie\\n31. Wano Country')"
      ]
     },
     "execution_count": 276,
     "metadata": {},
     "output_type": "execute_result"
    }
   ],
   "source": [
    "llm.invoke(\"Name every arc in One Piece in order\")"
   ]
  },
  {
   "cell_type": "markdown",
   "metadata": {},
   "source": [
    "## Scraping from One Piece Fandom"
   ]
  },
  {
   "cell_type": "code",
   "execution_count": 12,
   "metadata": {},
   "outputs": [],
   "source": [
    "#Function for scraping one page, take in the url and also the interesting section\n",
    "response = requests.get('https://onepiece.fandom.com/wiki/Reverse_Mountain_Arc')\n",
    "\n",
    "page_soup = BeautifulSoup(response.text, 'html.parser')"
   ]
  },
  {
   "cell_type": "code",
   "execution_count": 81,
   "metadata": {},
   "outputs": [],
   "source": [
    "def extract_text_from_element(element, prefix = ''):\n",
    "    \"\"\"Recursively extracts text from paragraphs and unordered lists.\"\"\"\n",
    "    text_content = ''\n",
    "    if element.name == 'p':\n",
    "        text_content += prefix + element.get_text().strip() + '\\n\\n'\n",
    "    elif element.name == 'ul':\n",
    "        for item in element.find_all('li', recursive=False):  # Direct children only to handle nesting\n",
    "            \n",
    "            item_text = ''.join(str(child) for child in item.children if child.name != 'ul')\n",
    "            item_soup = BeautifulSoup(item_text, 'html.parser')\n",
    "            text_content += prefix + '- ' + item_soup.get_text().strip() + '\\n'\n",
    "            # Check for nested <ul> within this <li>\n",
    "            nested_ul = item.find('ul')\n",
    "            if nested_ul:\n",
    "                text_content += extract_text_from_element(nested_ul, prefix = '\\t'+prefix)\n",
    "    return text_content"
   ]
  },
  {
   "cell_type": "code",
   "execution_count": 161,
   "metadata": {},
   "outputs": [],
   "source": [
    "import re\n",
    "def scrape_page(url, topic = ['Summary', 'Story Impact']):\n",
    "    \"\"\"Scrapes paragraphs and nested unordered lists under a specific header and saves to a text file.\"\"\"\n",
    "    response = requests.get(url)\n",
    "    if response.status_code == 200:\n",
    "        soup = BeautifulSoup(response.text, 'html.parser')\n",
    "\n",
    "        page_title = soup.find('h1', {'class': \"page-header__title\"})\n",
    "        if page_title:\n",
    "            page_title = page_title.get_text().strip()\n",
    "            \n",
    "        headers = soup.find_all('h2')  # Adjust this to target the specific header you're interested in\n",
    "        \n",
    "        if headers:\n",
    "            content = '' #f'{page_title}\\n\\n\\n\\n'\n",
    "            for j, header in enumerate(headers):\n",
    "                title = header.get_text().strip().replace('[', '').replace(']', '')\n",
    "                next_header = headers[j+1] if j+1 < len(headers) else None\n",
    "                if title in topic:\n",
    "                    content += title+'\\n\\n\\n'\n",
    "                    # Iterate over siblings of the header that are either <p> or <ul>, including nested <ul>\n",
    "                    for sibling in header.find_next_siblings():\n",
    "                        if sibling == next_header:\n",
    "                            break\n",
    "                        content += extract_text_from_element(sibling)\n",
    "\n",
    "                \n",
    "            # Save the content to a file\n",
    "            # with open(file_name, 'w', encoding='utf-8') as file:\n",
    "            #     file.write(content)\n",
    "            content = re.sub(r'\\[.*?\\]', '', content) \n",
    "            return page_title, content\n",
    "        else:\n",
    "            return 'Header not found'\n",
    "    else:\n",
    "        return 'Failed to retrieve the linked page'"
   ]
  },
  {
   "cell_type": "code",
   "execution_count": 162,
   "metadata": {},
   "outputs": [
    {
     "name": "stdout",
     "output_type": "stream",
     "text": [
      "Summary\n",
      "\n",
      "\n",
      "As the Straw Hats sail through a storm, Nami realizes that they will be going up Reverse Mountain to access the Grand Line. The crew expresses disbelief at the idea, with Zoro wondering why they can't just go south. Suddenly, the storm stops, and Nami reveals that they are in the Calm Belt, one of two strips of ocean surrounding the Grand Line, where there are no winds or currents. Nami urges the crew to row back to the storm, but the Sea Kings infesting the water then rise up. The Straw Hats struggle to get away, and once they escape, they turn their attention to successfully riding the dangerous current up Reverse Mountain. Their rudder soon breaks, but Luffy shields the Going Merry from hitting the mountain as the Straw Hats successfully sail down into the Grand Line.\n",
      "\n",
      "When they come down, they immediately run into a giant whale named Laboon, who is blocking their path. The Merry ends up running into the whale, which breaks its masthead. Luffy punches Laboon in the eye in retaliation for his seat being destroyed. Laboon then opens his mouth, swallowing the Going Merry, although Luffy manages to escape. Luffy tries hitting Laboon to get his friends out, but before the whale dives underwater, he spots and enters a trapdoor on the whale's back. Meanwhile, the other Straw Hats find themselves sailing towards an island inside Laboon. They soon encounter a giant squid, which is taken down by a man named Crocus. After an initially tense confrontation, Crocus points them toward an escape route.\n",
      "\n",
      "Right then, Laboon begins ramming himself into Reverse Mountain, causing further injuries to his head. As this happens, two mysterious people named Mr. 9 and Miss Wednesday prepare to take Crocus out to Laboon and use him to feed the people of their town. However, Luffy is sent tumbling through the corridors by Laboon's thrashing, and he ends up crashing into Mr. 9 and Miss Wednesday, sending them flying into the area where the Straw Hats and Crocus were. Crocus went to calm Laboon down before confronting the two rogues and took two bazooka shots aimed at Laboon as Luffy defeats the rogues. They return to Crocus' island, where Crocus explained about Mr. 9 and Miss Wednesday to the Straw Hats. He then revealed that Laboon had come to the Grand Line with a pirate crew and was asked to stay with him at Reverse Mountain as the crew could not risk taking the whale with them. Over 50 years had passed since then, but Laboon still believed that the crew would come back. The Straw Hats exited Laboon's body and threw Mr. 9 and Miss Wednesday into the water. The two agents swore revenge on the pirates before swimming away. At Twin Cape, Crocus revealed that he had heard that the crew with Laboon had not died, but rather had left the Grand Line. He told this to Laboon, but the whale seemed to refuse to believe him and started ramming his head against Reverse Mountain, as though trying to get to the crew.\n",
      "\n",
      "Right then, Luffy took the Merry's mast and plunged it into one of Laboon's open wounds, causing the whale to lash out against him. The two traded blows, and Luffy proclaimed that he was now Laboon's rival, promising to see and fight him again once his crew sailed around the Grand Line. This made Laboon happy, and Luffy painted his Jolly Roger on the whale's forehead, telling him not to bash his head against the mountain any longer. Meanwhile, Nami was shocked as her compass stopped working. Crocus tells Nami that to navigate the Grand Line, one would need a Log Pose to chart the differing magnetic fields of each island, all the way to the last island Laugh Tale. Luffy had acquired a Log Pose that Mr. 9 and Miss Wednesday had left on the Merry, but it ended up breaking when he and Sanji got in a fight. However, Crocus agreed to give them a Log Pose out of gratitude for helping Laboon.\n",
      "\n",
      "Meanwhile, Mr. 9 and Miss Wednesday swam up to the Twin Cape to try to get their Log Pose back, as they needed to get back to their island and report to their boss before they got into trouble. However, the Unluckies then came to try and kill them. After recovering from the attack, the two rogues went to the Straw Hats and asked them to take them to Whisky Peak. They were unable to divulge their identities, but the Straw Hats reluctantly agreed to help. They then set sail for Whisky Peak, bidding farewell to Crocus and Laboon, and Crocus wondered if Luffy was the one he and Roger had been waiting for.\n",
      "\n",
      "Story Impact\n",
      "\n",
      "\n",
      "- The Straw Hats make it to the Grand Line.\n",
      "- The Straw Hats meet a whale called Laboon, and Luffy agrees to reunite with him after making it across the Grand Line.\n",
      "\t- Laboon is revealed to be waiting for a crew that left him 50 years ago. The Straw Hats will go on to meet one of that crew, who will join them to fulfill the promise his crew made.\n",
      "\t- In the Sabaody Archipelago Arc, it is revealed that Crocus joined the Roger Pirates as their doctor and journeyed for three years to search for the crew that left Laboon.\n",
      "- The Straw Hats agree to take two mysterious rogues to their home island of Whisky Peak. One of the two rogues and their organization will drive the Straw Hats' actions through the rest of the Arabasta Saga.\n",
      "- Information about the Grand Line and the Calm Belt is revealed.\n",
      "\t- The Calm Belt is a sea surrounding the Grand Line which has no winds and is infested with Sea Kings. It is very difficult, but not impossible, to traverse.\n",
      "\t- The Log Pose is introduced, which helps sailors navigate the Grand Line due to its islands carrying their own distinct magnetic fields. The Straw Hats gain a Log Pose.\n",
      "\t- The location of One Piece is on an island known as Laugh Tale.\n",
      "\n"
     ]
    }
   ],
   "source": [
    "print(scrape_page('https://onepiece.fandom.com/wiki/Reverse_Mountain_Arc')[1])"
   ]
  },
  {
   "cell_type": "code",
   "execution_count": 164,
   "metadata": {},
   "outputs": [],
   "source": [
    "import requests\n",
    "from bs4 import BeautifulSoup\n",
    "\n",
    "url = 'https://onepiece.fandom.com/wiki/Chapters_and_Volumes'\n",
    "response = requests.get(url)\n",
    "\n",
    "if response.status_code == 200:\n",
    "    soup = BeautifulSoup(response.text, 'html.parser')"
   ]
  },
  {
   "cell_type": "code",
   "execution_count": 174,
   "metadata": {
    "scrolled": true
   },
   "outputs": [
    {
     "name": "stdout",
     "output_type": "stream",
     "text": [
      "Romance Dawn Arc(Chapters 1 to 7, Volume 1)\n",
      "Link: https://onepiece.fandom.com/wiki/Romance_Dawn_Arc\n",
      "Reverse Mountain Arc(Chapters 101 to 105, Volume 12)\n",
      "Link: https://onepiece.fandom.com/wiki/Reverse_Mountain_Arc\n",
      "Jaya Arc(Chapters 218 to 236, Volumes 24 and 25)\n",
      "Link: https://onepiece.fandom.com/wiki/Jaya_Arc\n",
      "Long Ring Long Land Arc(Chapters 303 to 321, Volumes 32 to 34)\n",
      "Link: https://onepiece.fandom.com/wiki/Long_Ring_Long_Land_Arc\n",
      "Thriller Bark Arc(Chapters 442 to 489, Volumes 46 to 50)\n",
      "Link: https://onepiece.fandom.com/wiki/Thriller_Bark_Arc\n",
      "Sabaody Archipelago Arc(Chapters 490 to 513, Volumes 50 to 53)\n",
      "Link: https://onepiece.fandom.com/wiki/Sabaody_Archipelago_Arc\n",
      "--- End of Row ---\n",
      "Orange Town Arc(Chapters 8 to 21, Volumes 1 to 3)\n",
      "Link: https://onepiece.fandom.com/wiki/Orange_Town_Arc\n",
      "Whisky Peak Arc(Chapters 106 to 114, Volumes 12 and 13)\n",
      "Link: https://onepiece.fandom.com/wiki/Whisky_Peak_Arc\n",
      "Skypiea Arc(Chapters 237 to 302, Volumes 26 to 32)\n",
      "Link: https://onepiece.fandom.com/wiki/Skypiea_Arc\n",
      "Water 7 Arc(Chapters 322 to 374, Volumes 34 to 39)\n",
      "Link: https://onepiece.fandom.com/wiki/Water_7_Arc\n",
      "\n",
      "Amazon Lily Arc(Chapters 514 to 524, Volumes 53 and 54)\n",
      "Link: https://onepiece.fandom.com/wiki/Amazon_Lily_Arc\n",
      "--- End of Row ---\n",
      "Syrup Village Arc(Chapters 22 to 41, Volumes 3 to 5)\n",
      "Link: https://onepiece.fandom.com/wiki/Syrup_Village_Arc\n",
      "Little Garden Arc(Chapters 115 to 129, Volumes 13 to 15)\n",
      "Link: https://onepiece.fandom.com/wiki/Little_Garden_Arc\n",
      "\n",
      "Enies Lobby Arc(Chapters 375 to 430, Volumes 39 to 44)\n",
      "Link: https://onepiece.fandom.com/wiki/Enies_Lobby_Arc\n"
     ]
    },
    {
     "name": "stderr",
     "output_type": "stream",
     "text": [
      "/tmp/ipykernel_195/712449126.py:10: MarkupResemblesLocatorWarning: The input looks more like a filename than markup. You may want to open this file and pass the filehandle into Beautiful Soup.\n",
      "  item_soup = BeautifulSoup(item_text, 'html.parser')\n"
     ]
    },
    {
     "name": "stdout",
     "output_type": "stream",
     "text": [
      "\n",
      "Impel Down Arc(Chapters 525 to 549, Volumes 54 to 56)\n",
      "Link: https://onepiece.fandom.com/wiki/Impel_Down_Arc\n",
      "--- End of Row ---\n",
      "Baratie Arc(Chapters 42 to 68, Volumes 5 to 8)\n",
      "Link: https://onepiece.fandom.com/wiki/Baratie_Arc\n",
      "Drum Island Arc(Chapters 130 to 154, Volumes 15 to 17)\n",
      "Link: https://onepiece.fandom.com/wiki/Drum_Island_Arc\n",
      "\n",
      "Post-Enies Lobby Arc(Chapters 431 to 441, Volumes 45 and 46)\n",
      "Link: https://onepiece.fandom.com/wiki/Post-Enies_Lobby_Arc\n",
      "\n",
      "Marineford Arc(Chapters 550 to 580, Volumes 56 to 59)\n",
      "Link: https://onepiece.fandom.com/wiki/Marineford_Arc\n",
      "--- End of Row ---\n",
      "Arlong Park Arc(Chapters 69 to 95, Volumes 8 to 11)\n",
      "Link: https://onepiece.fandom.com/wiki/Arlong_Park_Arc\n",
      "Arabasta Arc(Chapters 155 to 217, Volumes 17 to 24)\n",
      "Link: https://onepiece.fandom.com/wiki/Arabasta_Arc\n",
      "\n",
      "\n",
      "\n",
      "Post-War Arc(Chapters 581 to 597, Volumes 59 to 61)\n",
      "Link: https://onepiece.fandom.com/wiki/Post-War_Arc\n",
      "--- End of Row ---\n",
      "Loguetown Arc(Chapters 96 to 100, Volumes 11 and 12)\n",
      "Link: https://onepiece.fandom.com/wiki/Loguetown_Arc\n",
      "\n",
      "\n",
      "\n",
      "\n",
      "\n",
      "--- End of Row ---\n",
      "Return to Sabaody Arc(Chapters 598 to 602, Volume 61)\n",
      "Link: https://onepiece.fandom.com/wiki/Return_to_Sabaody_Arc\n",
      "Punk Hazard Arc(Chapters 654 to 699, Volumes 66 to 70)\n",
      "Link: https://onepiece.fandom.com/wiki/Punk_Hazard_Arc\n",
      "Zou Arc(Chapters 802 to 824, Volumes 80 to 82)\n",
      "Link: https://onepiece.fandom.com/wiki/Zou_Arc\n",
      "Wano Country Arc(Chapters 909 to 1057, Volumes 90 to 105)\n",
      "Link: https://onepiece.fandom.com/wiki/Wano_Country_Arc\n",
      "Egghead Arc(Chapters 1058 to Current, Volume 105 to Current)\n",
      "Link: https://onepiece.fandom.com/wiki/Egghead_Arc\n",
      "--- End of Row ---\n",
      "Fish-Man Island Arc(Chapters 603 to 653, Volumes 61 to 66)\n",
      "Link: https://onepiece.fandom.com/wiki/Fish-Man_Island_Arc\n",
      "Dressrosa Arc(Chapters 700 to 801, Volumes 70 to 80)\n",
      "Link: https://onepiece.fandom.com/wiki/Dressrosa_Arc\n",
      "Whole Cake Island Arc(Chapters 825 to 902, Volumes 82 to 90)\n",
      "Link: https://onepiece.fandom.com/wiki/Whole_Cake_Island_Arc\n",
      "\n",
      "\n",
      "--- End of Row ---\n",
      "\n",
      "\n",
      "Levely Arc(Chapters 903 to 908, Volume 90)\n",
      "Link: https://onepiece.fandom.com/wiki/Levely_Arc\n",
      "\n",
      "\n",
      "--- End of Row ---\n",
      "Link: https://onepiece.fandom.com/wiki/Buggy%27s_Crew_Adventure_Chronicles\n",
      "Link: https://onepiece.fandom.com/wiki/Diary_of_Koby-Meppo\n",
      "Link: https://onepiece.fandom.com/wiki/Jango%27s_Dance_Paradise\n",
      "Link: https://onepiece.fandom.com/wiki/Hatchan%27s_Sea-Floor_Stroll\n",
      "Link: https://onepiece.fandom.com/wiki/Wapol%27s_Omnivorous_Hurrah\n",
      "Link: https://onepiece.fandom.com/wiki/Ace%27s_Great_Blackbeard_Search\n",
      "Link: https://onepiece.fandom.com/wiki/Gedatsu%27s_Accidental_Blue-Sea_Life\n",
      "Link: https://onepiece.fandom.com/wiki/Miss_Goldenweek%27s_%22Operation:_Meet_Baroque_Works%22\n",
      "Link: https://onepiece.fandom.com/wiki/Enel%27s_Great_Space_Operations\n",
      "Link: https://onepiece.fandom.com/wiki/CP9%27s_Independent_Report\n",
      "Link: https://onepiece.fandom.com/wiki/Straw_Hat%27s_Separation_Serial#Sanji's_\"Resisting_in_Kamabakka\"\n",
      "Link: https://onepiece.fandom.com/wiki/Straw_Hat%27s_Separation_Serial#Robin's_\"How_Terrible_You_People_Are\"\n",
      "Link: https://onepiece.fandom.com/wiki/Straw_Hat%27s_Separation_Serial#Franky's_\"This_Week's_Me_is_No_Good\"\n",
      "Link: https://onepiece.fandom.com/wiki/Straw_Hat%27s_Separation_Serial#Usopp's_\"I'll-Die-If-I'm-On-My-On_Disease\"\n",
      "Link: https://onepiece.fandom.com/wiki/Straw_Hat%27s_Separation_Serial#Chopper's_\"I'm_Not_Food_You_Assholes\"\n",
      "Link: https://onepiece.fandom.com/wiki/Straw_Hat%27s_Separation_Serial#Nami's_\"Weather_Report\"\n",
      "Link: https://onepiece.fandom.com/wiki/Straw_Hat%27s_Separation_Serial#Brook's_\"Lodgings_and_Panties_Repayment\"\n",
      "Link: https://onepiece.fandom.com/wiki/Straw_Hat%27s_Separation_Serial#Zoro's_\"Where_the_Hell_Are_They?_What_a_Pain_in_the_Ass\"\n",
      "Link: https://onepiece.fandom.com/wiki/From_the_Decks_of_the_World\n",
      "Link: https://onepiece.fandom.com/wiki/Caribou%27s_Kehihihihi_in_the_New_World\n",
      "Link: https://onepiece.fandom.com/wiki/Solo_Journey_of_Jinbe,_Knight_of_the_Sea\n",
      "Link: https://onepiece.fandom.com/wiki/From_the_Decks_of_the_World:_The_500,000,000_Man_Arc\n",
      "Link: https://onepiece.fandom.com/wiki/The_Stories_of_the_Self-Proclaimed_Straw_Hat_Grand_Fleet\n",
      "Link: https://onepiece.fandom.com/wiki/%22Gang%22_Bege%27s_Oh_My_Family\n",
      "Link: https://onepiece.fandom.com/wiki/Germa_66%27s_Ahh..._An_Emotionless_Excursion\n"
     ]
    }
   ],
   "source": [
    "table = soup.find('table', {'class': 'wikitable'})\n",
    "\n",
    "scraped_contents = []\n",
    "\n",
    "if table:\n",
    "    #Iterate through each row\n",
    "    for i, row in enumerate(table.find_all('tr')):\n",
    "        if i in [0,1, 8, 9]:\n",
    "            continue\n",
    "            \n",
    "        for cell in row.find_all(['th', 'td']):\n",
    "            cell_text = cell.get_text().strip()\n",
    "            print(cell_text)\n",
    "            a_tag = cell.find('a')\n",
    "            if a_tag and a_tag.has_attr('href'):\n",
    "                href = a_tag['href']\n",
    "                full_url = requests.compat.urljoin(response.url, href)  # Create full URL if necessary\n",
    "                print(f'Link: {full_url}')\n",
    "                scraped_content = scrape_page(full_url)\n",
    "                scraped_content = (scraped_content[0], f'{cell_text}\\n\\n\\n'+scraped_content[1])\n",
    "                scraped_contents.append(scraped_content)\n",
    "                # Now scrape the linked page for its title or other information\n",
    "        print('--- End of Row ---')\n",
    "\n",
    "#Next, find all the mini-series\n",
    "h4s = soup.find_all('h4')\n",
    "\n",
    "other_topics = ['Short-Term Focused Cover Page Serials']\n",
    "for h4 in h4s:\n",
    "    #Iterate through to find mini series\n",
    "    title = h4.get_text().strip().replace('[', '').replace(']', '')\n",
    "    if title in other_topics:\n",
    "        siblings = h4.find_next_siblings()\n",
    "\n",
    "        for sibling in siblings:\n",
    "            if sibling.name == 'ol':\n",
    "                ls = sibling.find_all('li')\n",
    "                for l in ls:\n",
    "                    a_tag = l.find('a')\n",
    "                    cell_text = l.get_text().strip()\n",
    "                    if a_tag and a_tag.has_attr('href'):\n",
    "                        href = a_tag['href']\n",
    "                        full_url = requests.compat.urljoin(response.url, href)  # Create full URL if necessary\n",
    "                        print(f'Link: {full_url}')\n",
    "                        scraped_content = scrape_page(full_url)\n",
    "                        scraped_content = (scraped_content[0], f'{cell_text}\\n\\n\\n'+scraped_content[1])\n",
    "                        scraped_contents.append(scraped_content)\n",
    "                break   "
   ]
  },
  {
   "cell_type": "code",
   "execution_count": 175,
   "metadata": {},
   "outputs": [],
   "source": [
    "save_directory ='database'\n",
    "\n",
    "for title, content in scraped_contents:\n",
    "\n",
    "    with open(f'{save_directory}/{title}.txt', 'w') as f:\n",
    "        f.write(content)"
   ]
  },
  {
   "cell_type": "markdown",
   "metadata": {},
   "source": [
    "## Create Vector Store with the scraped database"
   ]
  },
  {
   "cell_type": "code",
   "execution_count": 176,
   "metadata": {},
   "outputs": [
    {
     "name": "stderr",
     "output_type": "stream",
     "text": [
      "100%|█████████████████████████████████████████████████████████████████████████████████████████████████████████████████████████████████████████████████████████████| 50/50 [00:00<00:00, 410.65it/s]\n"
     ]
    }
   ],
   "source": [
    "from langchain_community.document_loaders import DirectoryLoader, TextLoader\n",
    "\n",
    "loader = DirectoryLoader('database/', glob=\"*.txt\", loader_cls=TextLoader, show_progress=True)\n",
    "docs = loader.load()"
   ]
  },
  {
   "cell_type": "markdown",
   "metadata": {},
   "source": [
    "## Store in Vector DataBase"
   ]
  },
  {
   "cell_type": "code",
   "execution_count": 236,
   "metadata": {},
   "outputs": [],
   "source": [
    "from langchain_openai import OpenAIEmbeddings\n",
    "\n",
    "embeddings = OpenAIEmbeddings()"
   ]
  },
  {
   "cell_type": "code",
   "execution_count": 237,
   "metadata": {},
   "outputs": [],
   "source": [
    "from langchain_community.vectorstores import FAISS\n",
    "from langchain.text_splitter import RecursiveCharacterTextSplitter, TokenTextSplitter\n",
    "from langchain.retrievers import ParentDocumentRetriever\n",
    "\n",
    "text_splitter = RecursiveCharacterTextSplitter(chunk_size = 4096, chunk_overlap = 0)\n",
    "\n",
    "split_documents = text_splitter.split_documents(docs)\n",
    "db = FAISS.from_documents(split_documents, embeddings)"
   ]
  },
  {
   "cell_type": "code",
   "execution_count": 238,
   "metadata": {},
   "outputs": [
    {
     "name": "stdout",
     "output_type": "stream",
     "text": [
      "page_content=\"Ryokugyu landed in Udon, where he used his Mori Mori no Mi ability to cover the entire region in vegetation and attacked the Prison Mine where all the Beasts Pirates were being held and sucked out their vitality using roots he made with his ability. After calling in a battleship to Wano and commanding his subordinates to not mention this to Sakazuki, Ryokugyu then started moving onto the Flower Capital to take out Luffy, in order to gain Sakazuki's approval. However, the Red Scabbards (sans Kin'emon and Kikunojo) and Shinobu sensed him and recognized him as a Marine and an enemy of Luffy's, stood in his way. Ryokugyu then attacked them with Kinniku Mori Mori, all the while ranting how, since the country was unaffiliated to the World Government, no one on the island had any human rights and that he would have no problem slaughtering the civilians' if it meant getting to Luffy, claiming genuine support for the World Government's discriminatory politics. At this point, Yamato appeared and knocked Ryokugyu down with a Haki infused swing from Takeru, proclaiming his disgust at the Admirals remarks, and declaring himself as Kaidou's son, Yamato. Momonosuke then flew in and attempted to fire a Bolo Breath, which failed, and instead charged at the Wood Man and bit him, declaring that he would drive the Admiral away, even telling Yamato to stay out of the fight. Ryokugyu managed to capture Momonosuke in his roots, prompting Raizo to attempt to free him with Ninpo: Maki Maki no Jutsu: Katon, however Ryokugyu defended with Bokarin before catching the ninja with a root and draining his vitality, and then proceeded to capture most of the others with his roots and branches. When Yamato proposed to bring in Luffy and the crew, Momonosuke refused and forbade him from fighting as well, wishing to prove that Wano could defend itself without the Straw Hats. In a moment of desperation and frustration, Momonosuke finally unleashes a Bolo Breath, which burned straight through the Wood Man, and setting the Admiral's body on fire. However, Ryokugyu managed to revive himself from a sprout, and just as he was going to transform and continue attacking, it was cancelled out after feeling a burst of Haoshoku Haki aimed at him. Realizing that it was Shanks, Ryokugyu decides to retreat quietly.\" metadata={'source': 'database/Wano Country Arc.txt'}\n"
     ]
    }
   ],
   "source": [
    "#Try searching with vector\n",
    "query = \"What is Ryokugyu's power?\"\n",
    "embed_query = embeddings.embed_query(query)\n",
    "similar_docs = db.similarity_search_by_vector(embed_query, 20)\n",
    "\n",
    "print(similar_docs[0])"
   ]
  },
  {
   "cell_type": "code",
   "execution_count": 239,
   "metadata": {},
   "outputs": [],
   "source": [
    "from langchain.chains.combine_documents import create_stuff_documents_chain\n",
    "\n",
    "prompt = ChatPromptTemplate.from_template(\"\"\"Answer the following question based only on the provided context:\n",
    "\n",
    "<context>\n",
    "{context}\n",
    "</context>\n",
    "\n",
    "Question: {input}\"\"\")\n",
    "\n",
    "document_chain = create_stuff_documents_chain(llm, prompt)"
   ]
  },
  {
   "cell_type": "code",
   "execution_count": 240,
   "metadata": {},
   "outputs": [],
   "source": [
    "from langchain.chains import create_retrieval_chain\n",
    "\n",
    "retriever = vector.as_retriever()\n",
    "retrieval_chain = create_retrieval_chain(retriever, document_chain)"
   ]
  },
  {
   "cell_type": "code",
   "execution_count": 205,
   "metadata": {
    "jupyter": {
     "source_hidden": true
    }
   },
   "outputs": [],
   "source": [
    "from langchain.storage import InMemoryStore\n",
    "from langchain.retrievers import ParentDocumentRetriever\n",
    "from langchain_community.vectorstores import Chroma\n",
    "\n",
    "vectorstore = Chroma(\n",
    "    collection_name=\"full_documents\", embedding_function=OpenAIEmbeddings()\n",
    ")\n",
    "\n",
    "store = InMemoryStore()\n",
    "parent_retriever = ParentDocumentRetriever(\n",
    "    vectorstore=vectorstore,\n",
    "    docstore=store,\n",
    "    child_splitter=text_splitter,\n",
    ")\n",
    "\n",
    "parent_retriever.add_documents(docs, ids = None)"
   ]
  },
  {
   "cell_type": "code",
   "execution_count": 208,
   "metadata": {
    "jupyter": {
     "source_hidden": true
    }
   },
   "outputs": [],
   "source": [
    "query = \"What is the power of admiral Ryokugyu?\"\n",
    "\n",
    "sub_docs = vectorstore.similarity_search(query)\n",
    "\n",
    "retrieved_docs = parent_retriever.get_relevant_documents(query)"
   ]
  },
  {
   "cell_type": "code",
   "execution_count": 210,
   "metadata": {
    "jupyter": {
     "source_hidden": true
    }
   },
   "outputs": [],
   "source": [
    "parent_retrieval_chain = create_retrieval_chain(parent_retriever, document_chain)"
   ]
  },
  {
   "cell_type": "code",
   "execution_count": 241,
   "metadata": {},
   "outputs": [
    {
     "name": "stdout",
     "output_type": "stream",
     "text": [
      "Based on the provided context, Admiral Ryokugyu is described as having the ability to cover regions in vegetation and suck out vitality using roots. Additionally, he is mentioned using an ability called Kinniku Mori Mori. While his physical appearance is not described in detail, it can be inferred that he has the ability to manipulate vegetation and roots, and likely has a powerful and intimidating presence.\n"
     ]
    }
   ],
   "source": [
    "response = retrieval_chain.invoke({\"input\": \"What does Admiral Ryokugyu look like?\"})\n",
    "print(response[\"answer\"])"
   ]
  },
  {
   "cell_type": "markdown",
   "metadata": {},
   "source": [
    "## History-aware chatbots"
   ]
  },
  {
   "cell_type": "code",
   "execution_count": 256,
   "metadata": {},
   "outputs": [],
   "source": [
    "from langchain.chains import create_history_aware_retriever\n",
    "from langchain_core.prompts import MessagesPlaceholder\n",
    "\n",
    "# First we need a prompt that we can pass into an LLM to generate this search query\n",
    "\n",
    "prompt = ChatPromptTemplate.from_messages([\n",
    "    MessagesPlaceholder(variable_name=\"chat_history\"),\n",
    "    (\"user\", \"{input}\"),\n",
    "    (\"user\", '''Given the above conversation, \n",
    "                First determine the arc in which the last conversation is most related to, then generate a search query to look up in order to get information relevant to the arc determined.\n",
    "                Sometimes, there maybe no arc to based on since the conversation is generic. In that case, just generate a search query to look up in order to get information most relevant to the chat history''')\n",
    "])\n",
    "retriever_chain = create_history_aware_retriever(llm, retriever, prompt)"
   ]
  },
  {
   "cell_type": "code",
   "execution_count": 257,
   "metadata": {},
   "outputs": [
    {
     "data": {
      "text/plain": [
       "[Document(page_content=\"- Information about the Wano Country is revealed. As stated by Brook, the Wano Country is a closed-door kingdom who are not affiliated with the World Government, nor do they allow the Marines to go near them. Two samurais, Kin'emon and Momonosuke are introduced and become traveling companions of the Straw Hats to help save Kin'emon's ally at Dressrosa. Also, the status of the Wano Country as well as their connection to Kaidou is briefly foreshadowed in this arc which would lead to the events of the Wano Country Arc.\\n\\t- After introducing Momonosuke as Ki'nemon's son in this arc, the Zou Arc would later clarify Kin'emon's true relationship with Momonosuke as his retainer and not his father under the orders to have Momonosuke pretend to be his son as to not attract Kaidou or his crew.\", metadata={'source': 'database/Punk Hazard Arc.txt'}),\n",
       " Document(page_content=\"- Monkey D. Luffy begins his journey as a pirate, setting into motion the main plot of the series.\\n\\t- This arc shows how Luffy got his straw hat, which is his most valued possession.\\n\\t- Luffy eats the Gomu Gomu no Mi, which becomes the main source of his abilities as a pirate but also renders him unable to swim.\\n\\t\\t- The Wano Country Arc would reveal how the Gomu Gomu no Mi originally ended up in the Red Hair Pirates' possession prior to Luffy eating it. It would also reveal its true identity as the Hito Hito no Mi, Model: Nika, a Mythical Zoan-type Devil Fruit, making it the first overall Zoan-type Devil Fruit to appear in the series.\\n- This arc introduces Luffy's main role model Shanks, who becomes an important figure in the overall plot.\\n- Roronoa Zoro becomes the first person to join Luffy as a crewmate, forming the Straw Hat Pirates. His dream of becoming the Greatest Swordsman in the World is revealed.\\n- The Marines, a very prominent antagonist group in the overall series, are first introduced.\", metadata={'source': 'database/Romance Dawn Arc.txt'}),\n",
       " Document(page_content=\"Wano Country Arc\\n\\n\\n\\nSummary\\n\\n\\nNekomamushi and the Guardians arrived on Sphinx, where Marco resided and worked as a doctor. Marco revealed that Sphinx was Whitebeard's homeland and his last keepsake. With Edward Weevil and Buckin hunting for Whitebeard's inheritance, Marco anticipated that they would attack this place, and so elected to stay behind and protect it instead of joining the Ninja-Pirate-Mink-Samurai Alliance against Kaidou. However, he told Nekomamushi to give Luffy a message from him once he arrived at Wano Country.\", metadata={'source': 'database/Wano Country Arc.txt'}),\n",
       " Document(page_content=\"- Dr. Kureha is the first character to speak of the Will of D. and to reveal Gold Roger's true name: Gol D. Roger. This links Gol D. Roger to Luffy, since they both share the D. in their names.\\n- The crew gains an important member with Tony Tony Chopper as the ship's doctor.\\n- Portgas D. Ace is briefly shown, and was looking for Luffy, foreshadowing their bond.\\n- The Drum Island Arc mentioned Blackbeard's brutality and enormous power, making him a potentially dangerous enemy for the Straw Hat Pirates.\\n- Vivi's devotion to the people of her country is shown by how she is disgusted with Wapol's way of ruling his kingdom.\\n- This arc also lays the foundation for the conflict between Blackbeard and Ace, which leads to the Marineford Arc.\\n- The last of the three Devil Fruit types is officially identified, the Zoan-type.\\n- This arc also introduces the selfish nature of most seen Nobles though Vivi, a noble introduced two story arcs earlier, shows no such nature.\", metadata={'source': 'database/Drum Island Arc.txt'})]"
      ]
     },
     "execution_count": 257,
     "metadata": {},
     "output_type": "execute_result"
    }
   ],
   "source": [
    "from langchain_core.messages import HumanMessage, AIMessage\n",
    "\n",
    "chat_history = [HumanMessage(content=\"What is One Piece? and What is the latest arc of it?\"), AIMessage(content=\"One Piece is a manga and anime series created by Eiichiro Oda. The latest arc of One Piece is the Egghead Arc, which follows the aftermath of the Levely and the Raid on Onigashima, leading to major shifts across the world that could potentially lead to a global war.\")]\n",
    "response = retriever_chain.invoke({\n",
    "    \"chat_history\": chat_history,\n",
    "    \"input\": \"Who are the main characters introduced in this arc?\"\n",
    "})\n",
    "response"
   ]
  },
  {
   "cell_type": "code",
   "execution_count": 264,
   "metadata": {},
   "outputs": [],
   "source": [
    "prompt = ChatPromptTemplate.from_messages([\n",
    "    (\"system\", '''You are an expert in all manga One piece knowledge and trivia and you must provide an accurate answer to the user. \n",
    "                  Think step by step when answering. Gather all information from the context. If the answer is not in the context or in your knowledge. Do not try to offer false information or old information.\n",
    "                  Make sure that if the user ask the same question, you must recheck your previous answer\n",
    "                  :\n",
    "                  \n",
    "                  \\n\\n{context}'''),\n",
    "    MessagesPlaceholder(variable_name=\"chat_history\"),\n",
    "    (\"user\", \"{input}\"),\n",
    "])\n",
    "document_chain = create_stuff_documents_chain(llm, prompt)\n",
    "\n",
    "retrieval_chain = create_retrieval_chain(retriever_chain, document_chain)"
   ]
  },
  {
   "cell_type": "code",
   "execution_count": 285,
   "metadata": {},
   "outputs": [
    {
     "name": "stdout",
     "output_type": "stream",
     "text": [
      "Bartholomew Kuma, also known as \"PX-0,\" was originally a human pirate who later became a Warlord of the Sea under the World Government. He was a fearsome pirate known for his strength and power. However, after the events of the Thriller Bark Arc, Kuma underwent a mysterious transformation orchestrated by the World Government.\n",
      "\n",
      "During the events of the Sabaody Archipelago Arc, it was revealed that Kuma was turned into a Pacifista cyborg by the World Government. His consciousness and personality were removed, and he was programmed to serve the World Government as a mindless weapon. Despite losing his free will, Kuma carried out various missions for the World Government, including assisting in the capture of the Straw Hat Pirates.\n",
      "\n",
      "Later in the story, it was revealed that Kuma willingly accepted this transformation to protect the Thousand Sunny and its crew. He used his last moments of consciousness to program his own mind into a mission to protect the ship and ensure the safety of Luffy's crew as they journeyed into the New World.\n",
      "\n",
      "Overall, Kuma's backstory involves a tragic transformation from a powerful pirate to a Pacifista cyborg, driven by his sense of duty and sacrifice to safeguard his friends and their dreams. His selfless act to protect the Straw Hat Pirates' ship serves as a testament to his loyalty and bravery, despite losing himself to the World Government's control.\n"
     ]
    }
   ],
   "source": [
    "# chat_history = [HumanMessage(content=\"What is One Piece? and What is the latest arc of it?\"), AIMessage(content=\"One Piece is a manga and anime series created by Eiichiro Oda. The latest arc of One Piece is the Egghead Arc, which follows the aftermath of the Levely and the Raid on Onigashima, leading to major shifts across the world that could potentially lead to a global war.\")]\n",
    "response = retrieval_chain.invoke({\n",
    "    \"chat_history\": chat_history,\n",
    "    # \"input\": \"Who are the main characters introduced in this arc?\",\n",
    "    \"input\": \"Summarise the backstory of Kuma. Make sure you use latest information\"\n",
    "})\n",
    "\n",
    "print(response['answer'])\n",
    "chat_history.append(AIMessage(content = response['answer']))"
   ]
  },
  {
   "cell_type": "code",
   "execution_count": null,
   "metadata": {},
   "outputs": [],
   "source": []
  }
 ],
 "metadata": {
  "kernelspec": {
   "display_name": "Python 3 (ipykernel)",
   "language": "python",
   "name": "python3"
  },
  "language_info": {
   "codemirror_mode": {
    "name": "ipython",
    "version": 3
   },
   "file_extension": ".py",
   "mimetype": "text/x-python",
   "name": "python",
   "nbconvert_exporter": "python",
   "pygments_lexer": "ipython3",
   "version": "3.9.18"
  }
 },
 "nbformat": 4,
 "nbformat_minor": 4
}
